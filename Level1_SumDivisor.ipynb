{
  "nbformat": 4,
  "nbformat_minor": 0,
  "metadata": {
    "colab": {
      "name": "Level1-SumDivisor.ipynb",
      "provenance": [],
      "authorship_tag": "ABX9TyPeG2dYpnLDw9eQ7I4Gi5Cr",
      "include_colab_link": true
    },
    "kernelspec": {
      "name": "python3",
      "display_name": "Python 3"
    }
  },
  "cells": [
    {
      "cell_type": "markdown",
      "metadata": {
        "id": "view-in-github",
        "colab_type": "text"
      },
      "source": [
        "<a href=\"https://colab.research.google.com/github/nanheee/Programmers_Codingtest/blob/master/Level1_SumDivisor.ipynb\" target=\"_parent\"><img src=\"https://colab.research.google.com/assets/colab-badge.svg\" alt=\"Open In Colab\"/></a>"
      ]
    },
    {
      "cell_type": "markdown",
      "metadata": {
        "id": "xkvXHZ9RsvOL",
        "colab_type": "text"
      },
      "source": [
        "### Lv1 - 약수의 합\n",
        "\n",
        "https://programmers.co.kr/learn/courses/30/lessons/12928\n",
        "\n",
        "*   정수 n을 입력받아 n의 약수를 모두 더한 값을 리턴하는 함수, solution을 완성해주세요."
      ]
    },
    {
      "cell_type": "code",
      "metadata": {
        "id": "E4lAWE4essUc",
        "colab_type": "code",
        "colab": {
          "base_uri": "https://localhost:8080/",
          "height": 85
        },
        "outputId": "042d74d5-e35d-48e8-945e-15f4be76605e"
      },
      "source": [
        "def solution(num):\n",
        "    answer = 0\n",
        "    for i in range(1,num+1):\n",
        "      if num%i ==0:\n",
        "        answer = answer + i\n",
        "    return answer\n",
        "\n",
        "\n",
        "# 아래는 테스트로 출력해 보기 위한 코드입니다.\n",
        "print(solution(3)) # 1+3\n",
        "print(solution(4)) # 1+2+4\n",
        "print(solution(5)) # 1+5\n",
        "print(solution(6)) # 1+2+3+6"
      ],
      "execution_count": 4,
      "outputs": [
        {
          "output_type": "stream",
          "text": [
            "4\n",
            "7\n",
            "6\n",
            "12\n"
          ],
          "name": "stdout"
        }
      ]
    },
    {
      "cell_type": "code",
      "metadata": {
        "id": "Sdf_J294tEgR",
        "colab_type": "code",
        "colab": {}
      },
      "source": [
        "#다른사람 풀이\n",
        "\n",
        "def sumDivisor(num):\n",
        "    # num / 2 의 수들만 검사하면 성능 약 2배 향상잼\n",
        "    return num + sum([i for i in range(1, (num // 2) + 1) if num % i == 0])"
      ],
      "execution_count": null,
      "outputs": []
    }
  ]
}