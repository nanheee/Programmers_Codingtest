{
  "nbformat": 4,
  "nbformat_minor": 0,
  "metadata": {
    "colab": {
      "name": "Level1-Stringmiddle.ipynb",
      "provenance": [],
      "toc_visible": true,
      "authorship_tag": "ABX9TyPncQQB11/duMAmZcRyuWfS",
      "include_colab_link": true
    },
    "kernelspec": {
      "name": "python3",
      "display_name": "Python 3"
    }
  },
  "cells": [
    {
      "cell_type": "markdown",
      "metadata": {
        "id": "view-in-github",
        "colab_type": "text"
      },
      "source": [
        "<a href=\"https://colab.research.google.com/github/nanheee/Programmers_Codingtest/blob/master/Level1_Stringmiddle.ipynb\" target=\"_parent\"><img src=\"https://colab.research.google.com/assets/colab-badge.svg\" alt=\"Open In Colab\"/></a>"
      ]
    },
    {
      "cell_type": "markdown",
      "metadata": {
        "id": "xifIoCNAnj5G",
        "colab_type": "text"
      },
      "source": [
        "### Level 1 - 가운데 글자 가져오기\n",
        "https://programmers.co.kr/learn/courses/30/lessons/12903\n",
        "\n",
        "*   단어의 길이가 짝수라면 가운데 두글자를 반환\n"
      ]
    },
    {
      "cell_type": "code",
      "metadata": {
        "id": "o4QL77bYnfWO",
        "colab_type": "code",
        "colab": {
          "base_uri": "https://localhost:8080/",
          "height": 34
        },
        "outputId": "0d6b2584-0e45-475f-f2ef-7a463247af9f"
      },
      "source": [
        "def solution(s):\n",
        "    if len(s) % 2 != 0:\n",
        "      answer = s[len(s)//2]\n",
        "    else:\n",
        "      answer = s[len(s)//2-1]+s[len(s)//2]\n",
        "    return answer\n",
        "\n",
        "print(solution(\"power\"))"
      ],
      "execution_count": 1,
      "outputs": [
        {
          "output_type": "stream",
          "text": [
            "w\n"
          ],
          "name": "stdout"
        }
      ]
    },
    {
      "cell_type": "code",
      "metadata": {
        "id": "5SogPsXln0ie",
        "colab_type": "code",
        "colab": {}
      },
      "source": [
        "#다른 사람의 풀이\n",
        "def string_middle(str):\n",
        "\n",
        "    return str[(len(str)-1)//2:len(str)//2+1]\n",
        "\n",
        "print(string_middle(\"power\"))"
      ],
      "execution_count": null,
      "outputs": []
    }
  ]
}