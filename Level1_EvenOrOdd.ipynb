{
  "nbformat": 4,
  "nbformat_minor": 0,
  "metadata": {
    "colab": {
      "name": "Level1-EvenOrOdd.ipynb",
      "provenance": [],
      "authorship_tag": "ABX9TyPyNuCksJS/xOoOlGeJmUt6",
      "include_colab_link": true
    },
    "kernelspec": {
      "name": "python3",
      "display_name": "Python 3"
    }
  },
  "cells": [
    {
      "cell_type": "markdown",
      "metadata": {
        "id": "view-in-github",
        "colab_type": "text"
      },
      "source": [
        "<a href=\"https://colab.research.google.com/github/nanheee/Programmers_Codingtest/blob/master/Level1_EvenOrOdd.ipynb\" target=\"_parent\"><img src=\"https://colab.research.google.com/assets/colab-badge.svg\" alt=\"Open In Colab\"/></a>"
      ]
    },
    {
      "cell_type": "markdown",
      "metadata": {
        "id": "_FjRT9jor6eV",
        "colab_type": "text"
      },
      "source": [
        "### Lv1 - 짝수와 홀수\n",
        "https://programmers.co.kr/learn/courses/30/lessons/12937\n",
        "\n",
        "\n",
        "*   정수 num이 짝수일 경우 Even을 반환하고 홀수인 경우 Odd를 반환\n",
        "\n"
      ]
    },
    {
      "cell_type": "markdown",
      "metadata": {
        "id": "LbjkSmZ4r9p5",
        "colab_type": "text"
      },
      "source": [
        ""
      ]
    },
    {
      "cell_type": "code",
      "metadata": {
        "id": "-ZKiTR_y9-3d",
        "colab_type": "code",
        "colab": {
          "base_uri": "https://localhost:8080/",
          "height": 85
        },
        "outputId": "09fa8b62-12d2-4eba-be13-1fe189b2377c"
      },
      "source": [
        "def solution(num):\n",
        "    if num % 2 != 0 :\n",
        "      return \"Odd\"\n",
        "    else :\n",
        "      return \"Even\"\n",
        "\n",
        "print(\"결과 : \" + solution(3))\n",
        "print(\"결과 : \" + solution(4))\n",
        "print(\"결과 : \" + solution(5))\n",
        "print(\"결과 : \" + solution(6))"
      ],
      "execution_count": null,
      "outputs": [
        {
          "output_type": "stream",
          "text": [
            "결과 : Odd\n",
            "결과 : Even\n",
            "결과 : Odd\n",
            "결과 : Even\n"
          ],
          "name": "stdout"
        }
      ]
    },
    {
      "cell_type": "code",
      "metadata": {
        "id": "Tz0YjyMMsCJJ",
        "colab_type": "code",
        "colab": {}
      },
      "source": [
        "# 다른사람 풀이\n",
        "def evenOrOdd(num):\n",
        "    if (num%2):\n",
        "        return \"Odd\"\n",
        "    else:\n",
        "        return \"Even\"\n",
        "\n",
        "\n",
        "\n",
        "def evenOrOdd(num):\n",
        "    return num % 2 and \"Odd\" or \"Even\"\n",
        "    #return (num % 2 and \"Odd\") or \"Even\"\n",
        "\n",
        "\n",
        "#아래는 테스트로 출력해 보기 위한 코드입니다.\n",
        "print(\"결과 : \" + evenOrOdd(3))\n",
        "print(\"결과 : \" + evenOrOdd(2))"
      ],
      "execution_count": null,
      "outputs": []
    },
    {
      "cell_type": "markdown",
      "metadata": {
        "id": "oku9Vc88-FFH",
        "colab_type": "text"
      },
      "source": [
        ""
      ]
    }
  ]
}