{
  "nbformat": 4,
  "nbformat_minor": 0,
  "metadata": {
    "colab": {
      "name": "python_Lv1.ipynb",
      "provenance": [],
      "collapsed_sections": [],
      "authorship_tag": "ABX9TyMNGmYQAvAqp3wJFaLRlU4M",
      "include_colab_link": true
    },
    "kernelspec": {
      "name": "python3",
      "display_name": "Python 3"
    }
  },
  "cells": [
    {
      "cell_type": "markdown",
      "metadata": {
        "id": "view-in-github",
        "colab_type": "text"
      },
      "source": [
        "<a href=\"https://colab.research.google.com/github/nanheee/Python_practice/blob/master/python_Lv1.ipynb\" target=\"_parent\"><img src=\"https://colab.research.google.com/assets/colab-badge.svg\" alt=\"Open In Colab\"/></a>"
      ]
    },
    {
      "cell_type": "markdown",
      "metadata": {
        "id": "izXU-VeJftzK",
        "colab_type": "text"
      },
      "source": [
        "### Lv1 - 이상한 문자 만들기\n",
        "https://programmers.co.kr/learn/courses/30/lessons/12930\n",
        "\n",
        "\n",
        "*   짝수는 소문자, 홀수는 대문자\n",
        "*   문자열 전체의 짝/홀수 인덱스가 아니라, 단어(공백을 기준)별로 짝/홀수 인덱스를 판단\n",
        "*   첫 번째 글자는 0번째 인덱스로 보아 짝수번째 알파벳으로 처리\n",
        "\n"
      ]
    },
    {
      "cell_type": "code",
      "metadata": {
        "id": "_Oe_Te-f0822",
        "colab_type": "code",
        "colab": {
          "base_uri": "https://localhost:8080/",
          "height": 35
        },
        "outputId": "7832d130-d02c-4549-86cd-94fdbd94312f"
      },
      "source": [
        "s = 'try hello world' # 'TrY HeLlO WoRlD'로 만들기\n",
        "\n",
        "def solution(s):\n",
        "    result = ''\n",
        "    for x in s.split(' '):\n",
        "      change = []\n",
        "      for i, y in enumerate(x):\n",
        "        if i % 2 == 0:\n",
        "          change.append(y.upper())\n",
        "        else:\n",
        "          change.append(y.lower())\n",
        "      result+=str(''.join(change)+' ')\n",
        "    return result[:-1]\n",
        "\n",
        "solution(s)"
      ],
      "execution_count": null,
      "outputs": [
        {
          "output_type": "execute_result",
          "data": {
            "application/vnd.google.colaboratory.intrinsic+json": {
              "type": "string"
            },
            "text/plain": [
              "'TrY HeLlO WoRlD'"
            ]
          },
          "metadata": {
            "tags": []
          },
          "execution_count": 105
        }
      ]
    },
    {
      "cell_type": "markdown",
      "metadata": {
        "id": "o-HpyhTCgUUG",
        "colab_type": "text"
      },
      "source": [
        "### Lv1 - 가운데 글짜 가져오기\n",
        "https://programmers.co.kr/learn/courses/30/lessons/12903\n",
        "\n",
        "*   단어의 길이가 짝수라면 가운데 두글자를 반환\n"
      ]
    },
    {
      "cell_type": "code",
      "metadata": {
        "id": "Tv_YXbF0hp-g",
        "colab_type": "code",
        "colab": {
          "base_uri": "https://localhost:8080/",
          "height": 34
        },
        "outputId": "ebf914d8-0ab0-4500-f32c-303d486152b4"
      },
      "source": [
        "def solution(s):\n",
        "    if len(s) % 2 != 0:\n",
        "      answer = s[len(s)//2]\n",
        "    else:\n",
        "      answer = s[len(s)//2-1]+s[len(s)//2]\n",
        "    return answer\n",
        "\n",
        "print(solution(\"power\"))"
      ],
      "execution_count": null,
      "outputs": [
        {
          "output_type": "stream",
          "text": [
            "w\n"
          ],
          "name": "stdout"
        }
      ]
    },
    {
      "cell_type": "code",
      "metadata": {
        "id": "ZpiNQZ7hngb0",
        "colab_type": "code",
        "colab": {
          "base_uri": "https://localhost:8080/",
          "height": 34
        },
        "outputId": "f77b6af2-47c5-4b32-8667-7d0c108aa8f0"
      },
      "source": [
        "#다른 사람의 풀이\n",
        "def string_middle(str):\n",
        "\n",
        "    return str[(len(str)-1)//2:len(str)//2+1]\n",
        "\n",
        "print(string_middle(\"power\"))"
      ],
      "execution_count": null,
      "outputs": [
        {
          "output_type": "stream",
          "text": [
            "w\n"
          ],
          "name": "stdout"
        }
      ]
    },
    {
      "cell_type": "markdown",
      "metadata": {
        "id": "hnRs_Dp9uF-j",
        "colab_type": "text"
      },
      "source": [
        "### Lv1 - 짝수와 홀수\n",
        "https://programmers.co.kr/learn/courses/30/lessons/12937\n",
        "\n",
        "\n",
        "*   정수 num이 짝수일 경우 Even을 반환하고 홀수인 경우 Odd를 반환\n",
        "\n"
      ]
    },
    {
      "cell_type": "code",
      "metadata": {
        "id": "r6Ei_mhRuFpV",
        "colab_type": "code",
        "colab": {
          "base_uri": "https://localhost:8080/",
          "height": 34
        },
        "outputId": "027dcc4f-2952-41cc-f7c2-8879c298d1be"
      },
      "source": [
        "def solution(num):\n",
        "    if num % 2 != 0 :\n",
        "      return \"Odd\"\n",
        "    else :\n",
        "      return \"Even\"\n",
        "\n",
        "print(\"결과 : \" + solution(5))"
      ],
      "execution_count": null,
      "outputs": [
        {
          "output_type": "stream",
          "text": [
            "결과 : Odd\n"
          ],
          "name": "stdout"
        }
      ]
    },
    {
      "cell_type": "code",
      "metadata": {
        "id": "sezjry6ey0sm",
        "colab_type": "code",
        "colab": {}
      },
      "source": [
        "# 다른사람 풀이\n",
        "def evenOrOdd(num):\n",
        "    if (num%2):\n",
        "        return \"Odd\"\n",
        "    else:\n",
        "        return \"Even\"\n",
        "\n",
        "\n",
        "\n",
        "def evenOrOdd(num):\n",
        "    return num % 2 and \"Odd\" or \"Even\"\n",
        "    #return (num % 2 and \"Odd\") or \"Even\"\n",
        "\n",
        "\n",
        "#아래는 테스트로 출력해 보기 위한 코드입니다.\n",
        "print(\"결과 : \" + evenOrOdd(3))\n",
        "print(\"결과 : \" + evenOrOdd(2))"
      ],
      "execution_count": null,
      "outputs": []
    },
    {
      "cell_type": "markdown",
      "metadata": {
        "id": "SRwfVEKdlqGp",
        "colab_type": "text"
      },
      "source": [
        "### Lv1 - 약수의 합\n",
        "\n",
        "https://programmers.co.kr/learn/courses/30/lessons/12928\n",
        "\n",
        "*   정수 n을 입력받아 n의 약수를 모두 더한 값을 리턴하는 함수, solution을 완성해주세요."
      ]
    },
    {
      "cell_type": "code",
      "metadata": {
        "id": "oW-N3juEl5DO",
        "colab_type": "code",
        "colab": {
          "base_uri": "https://localhost:8080/",
          "height": 51
        },
        "outputId": "cca3fdd9-ed88-47b8-9dde-32dcd86d1f8d"
      },
      "source": [
        "def solution(num):\n",
        "    answer = 0\n",
        "    for i in range(1,num+1):\n",
        "      if num%i ==0:\n",
        "        answer = answer + i\n",
        "    return answer\n",
        "\n",
        "\n",
        "# 아래는 테스트로 출력해 보기 위한 코드입니다.    \n",
        "print(solution(5))\n",
        "print( solution(6))"
      ],
      "execution_count": 21,
      "outputs": [
        {
          "output_type": "stream",
          "text": [
            "6\n",
            "12\n"
          ],
          "name": "stdout"
        }
      ]
    },
    {
      "cell_type": "code",
      "metadata": {
        "id": "o6GG7QmvuxTL",
        "colab_type": "code",
        "colab": {}
      },
      "source": [
        "#다른사람 풀이\n",
        "\n",
        "def sumDivisor(num):\n",
        "    # num / 2 의 수들만 검사하면 성능 약 2배 향상잼\n",
        "    return num + sum([i for i in range(1, (num // 2) + 1) if num % i == 0])"
      ],
      "execution_count": null,
      "outputs": []
    }
  ]
}