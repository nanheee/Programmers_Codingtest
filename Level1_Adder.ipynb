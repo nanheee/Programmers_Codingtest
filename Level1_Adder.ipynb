{
  "nbformat": 4,
  "nbformat_minor": 0,
  "metadata": {
    "colab": {
      "name": "Level1-Adder.ipynb",
      "provenance": [],
      "authorship_tag": "ABX9TyM0VKXC2/DEXuMQ29b+uJXt",
      "include_colab_link": true
    },
    "kernelspec": {
      "name": "python3",
      "display_name": "Python 3"
    }
  },
  "cells": [
    {
      "cell_type": "markdown",
      "metadata": {
        "id": "view-in-github",
        "colab_type": "text"
      },
      "source": [
        "<a href=\"https://colab.research.google.com/github/nanheee/Programmers_Codingtest/blob/master/Level1_Adder.ipynb\" target=\"_parent\"><img src=\"https://colab.research.google.com/assets/colab-badge.svg\" alt=\"Open In Colab\"/></a>"
      ]
    },
    {
      "cell_type": "markdown",
      "metadata": {
        "id": "ORBzIsBmvUD3",
        "colab_type": "text"
      },
      "source": [
        "### Lv 1-두 정수 사이의 합\n",
        "https://programmers.co.kr/learn/courses/30/lessons/12912\n",
        "\n",
        "* 두 정수 a, b가 주어졌을 때 a와 b 사이에 속한 모든 정수의 합을 리턴하는 함수, solution을 완성하세요."
      ]
    },
    {
      "cell_type": "code",
      "metadata": {
        "id": "xBG59wVQume3",
        "colab_type": "code",
        "colab": {
          "base_uri": "https://localhost:8080/",
          "height": 68
        },
        "outputId": "8e5bb8c5-db79-4d54-dc76-99891db67d20"
      },
      "source": [
        "def solution(a, b):\n",
        "    answer = 0\n",
        "    if a == b :\n",
        "      answer = a\n",
        "    else:\n",
        "      for i in range(min(a,b),max(a,b)+1)  :\n",
        "        answer += i\n",
        "    return answer\n",
        "\n",
        "\n",
        "# 아래는 테스트로 출력해 보기 위한 코드입니다.\n",
        "\n",
        "print(solution(3,5)) # 3+4+5\n",
        "print(solution(3,3)) # 3\n",
        "print(solution(5,3)) # 3+4+5"
      ],
      "execution_count": 1,
      "outputs": [
        {
          "output_type": "stream",
          "text": [
            "12\n",
            "3\n",
            "12\n"
          ],
          "name": "stdout"
        }
      ]
    },
    {
      "cell_type": "code",
      "metadata": {
        "id": "AER31YXp0Eiy",
        "colab_type": "code",
        "colab": {}
      },
      "source": [
        "# 다른사람의 풀이\n",
        "def adder(a, b):\n",
        "    return sum(range(min(a,b),max(a,b)+1))\n",
        "\n",
        "# 아래는 테스트로 출력해 보기 위한 코드입니다.\n",
        "print( adder(3, 5))\n"
      ],
      "execution_count": null,
      "outputs": []
    },
    {
      "cell_type": "markdown",
      "metadata": {
        "id": "jV2-CA8RunC1",
        "colab_type": "text"
      },
      "source": [
        ""
      ]
    }
  ]
}